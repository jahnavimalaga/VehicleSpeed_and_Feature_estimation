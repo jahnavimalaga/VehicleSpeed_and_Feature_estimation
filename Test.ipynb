{
  "nbformat": 4,
  "nbformat_minor": 0,
  "metadata": {
    "colab": {
      "provenance": [],
      "gpuType": "T4"
    },
    "kernelspec": {
      "name": "python3",
      "display_name": "Python 3"
    },
    "language_info": {
      "name": "python"
    },
    "accelerator": "GPU"
  },
  "cells": [
    {
      "cell_type": "code",
      "execution_count": null,
      "metadata": {
        "colab": {
          "base_uri": "https://localhost:8080/"
        },
        "id": "mfkTBsHaR5m6",
        "outputId": "584a8b75-afeb-4e75-922e-aa05e74bf3df"
      },
      "outputs": [
        {
          "output_type": "stream",
          "name": "stdout",
          "text": [
            "Mounted at /content/gdrive\n"
          ]
        }
      ],
      "source": [
        "from google.colab import drive\n",
        "drive.mount('/content/gdrive')"
      ]
    },
    {
      "cell_type": "code",
      "source": [
        "cd <path to the Results directory>"
      ],
      "metadata": {
        "colab": {
          "base_uri": "https://localhost:8080/"
        },
        "id": "yk7qoYRGR_d_",
        "outputId": "3be45376-3aa3-40e3-d606-3177f91a2291"
      },
      "execution_count": 2,
      "outputs": [
        {
          "output_type": "stream",
          "name": "stdout",
          "text": [
            "[Errno 2] No such file or directory: '<path to the Results directory>'\n",
            "/content\n"
          ]
        }
      ]
    },
    {
      "cell_type": "code",
      "source": [
        "ls"
      ],
      "metadata": {
        "colab": {
          "base_uri": "https://localhost:8080/"
        },
        "id": "wkwiI7uoUkPT",
        "outputId": "33fbc347-5372-49e2-da84-c18e6e2425c2"
      },
      "execution_count": 1,
      "outputs": [
        {
          "output_type": "stream",
          "name": "stdout",
          "text": [
            "\u001b[0m\u001b[01;34msample_data\u001b[0m/\n"
          ]
        }
      ]
    },
    {
      "cell_type": "code",
      "source": [
        "import pandas as pd\n",
        "import json\n",
        "from collections import Counter\n",
        "import ast\n",
        "import os\n",
        "import json\n",
        "import ast\n",
        "import numpy as np"
      ],
      "metadata": {
        "id": "XyrkHaA-SmYB"
      },
      "execution_count": null,
      "outputs": []
    },
    {
      "cell_type": "code",
      "source": [
        "df_original = pd.read_excel('Original Video Car description.xlsx',header=1)\n",
        "df_original = df_original.dropna(how='all')\n",
        "df_original['Plate #'] = df_original['Plate #'].fillna(\"NA\")\n",
        "num_rows_orig = df_original.shape[0]\n",
        "num_rows_orig"
      ],
      "metadata": {
        "id": "xL_W-4iAf_VW",
        "colab": {
          "base_uri": "https://localhost:8080/"
        },
        "outputId": "e6774a3e-dc92-4cda-b600-24b6d1b7ff98"
      },
      "execution_count": null,
      "outputs": [
        {
          "output_type": "execute_result",
          "data": {
            "text/plain": [
              "67"
            ]
          },
          "metadata": {},
          "execution_count": 7
        }
      ]
    },
    {
      "cell_type": "code",
      "source": [
        "print(df_original['File Name_ID'].unique())\n",
        "len(df_original['File Name_ID'].unique())"
      ],
      "metadata": {
        "colab": {
          "base_uri": "https://localhost:8080/"
        },
        "id": "K_2XbImzJ0ZV",
        "outputId": "f232b326-a504-4ead-bb54-979144f6066d"
      },
      "execution_count": null,
      "outputs": [
        {
          "output_type": "stream",
          "name": "stdout",
          "text": [
            "['Clip1_155318' 'Clip2_155318' 'Clip3_155318' 'Clip4_155318'\n",
            " 'Clip5_155318' 'Clip6_155318' 'Clip1_154740' 'Clip2_154740'\n",
            " 'Clip3_154740' 'Clip4_154740' 'Clip5_154740' 'Clip6_154740'\n",
            " 'Clip7_154740' 'Clip7_155318' 'Clip8_155318' 'Clip1_154525'\n",
            " 'Clip2_154525' 'Clip3_154525' 'Clip4_154525' 'Clip5_154525'\n",
            " 'Clip1_154321' 'Clip2_154321' 'Clip3_154321' 'Clip4_154321'\n",
            " 'Clip5_154321 ' 'Clip6_154321' 'Clip1_154555' 'Clip2_154555'\n",
            " 'Clip1_154045' 'Clip2_154045' 'Clip1_120042' 'Clip2_120042' nan\n",
            " 'Clip3_120042' 'Clip4_120042' 'Clip5_120042' 'Clip6_120042'\n",
            " 'Clip1_130247' 'Clip2_130247' 'Clip3_130247' 'Clip1_4629' 'Clip2_4629'\n",
            " 'Clip3_4629' 'Clip1_4635' 'Clip2_4635' 'Clip3_4635' 'Clip4_4635'\n",
            " 'Clip5_4635' 'Clip6_4635' 'Clip1_4636' 'Clip2_4636' 'Clip3_4636'\n",
            " 'Clip4_4636' 'Clip5_4636']\n"
          ]
        },
        {
          "output_type": "execute_result",
          "data": {
            "text/plain": [
              "54"
            ]
          },
          "metadata": {},
          "execution_count": 8
        }
      ]
    },
    {
      "cell_type": "code",
      "source": [
        "df_predicted = pd.read_excel('output.xlsx')#('predicted.xlsx')\n",
        "df_predicted['freq_lp_chrs'] = df_predicted['freq_lp_chrs'].fillna(\"\")\n",
        "df_predicted['filename'] = df_predicted['filename'].str.replace('.txt', '')\n",
        "print(df_predicted['filename'].unique())\n",
        "len(df_predicted['filename'].unique())"
      ],
      "metadata": {
        "id": "CFXJQT1af_YZ",
        "colab": {
          "base_uri": "https://localhost:8080/"
        },
        "outputId": "6e6594e3-8791-4ad5-a9bc-a28d28da1d0b"
      },
      "execution_count": null,
      "outputs": [
        {
          "output_type": "stream",
          "name": "stdout",
          "text": [
            "['Clip5_120042' 'Clip5_155318' 'Clip3_154740' 'Clip1_155318'\n",
            " 'Clip2_154321' 'Clip5_154525' 'Clip7_155318' 'Clip4_4635' 'Clip6_120042'\n",
            " 'Clip3_154321' 'Clip5_4636' 'Clip2_4636' 'Clip2_154740' 'Clip6_154321'\n",
            " 'Clip1_130247' 'Clip2_4635' 'Clip1_154045' 'Clip3_154525' 'Clip6_4635'\n",
            " 'Clip3_130247' 'Clip4_154525' 'Clip6_155318' 'Clip2_4629' 'Clip2_130247'\n",
            " 'Clip1_154740' 'Clip2_154555' 'Clip1_4629' 'Clip7_154740' 'Clip4_154321'\n",
            " 'Clip4_155318' 'Clip1_4635' 'Clip4_4636' 'Clip5_154740' 'Clip2_154525'\n",
            " 'Clip2_154045' 'Clip5_4635' 'Clip4_120042' 'Clip3_4636' 'Clip3_4629'\n",
            " 'Clip2_120042' 'Clip8_155318' 'Clip1_120042' 'Clip1_154555'\n",
            " 'Clip2_155318' 'Clip6_154740' 'Clip1_154525' 'Clip5_154321' 'Clip1_4636'\n",
            " 'Clip3_155318' 'Clip4_154740' 'Clip1_154321' 'Clip3_120042' 'Clip3_4635']\n"
          ]
        },
        {
          "output_type": "stream",
          "name": "stderr",
          "text": [
            "<ipython-input-37-e1cbdd77cf3c>:3: FutureWarning: The default value of regex will change from True to False in a future version.\n",
            "  df_predicted['filename'] = df_predicted['filename'].str.replace('.txt', '')\n"
          ]
        },
        {
          "output_type": "execute_result",
          "data": {
            "text/plain": [
              "53"
            ]
          },
          "metadata": {},
          "execution_count": 37
        }
      ]
    },
    {
      "cell_type": "code",
      "source": [
        "difference_set = set(df_original['File Name_ID'].unique()) - set(df_predicted['filename'].unique())\n",
        "difference_set"
      ],
      "metadata": {
        "colab": {
          "base_uri": "https://localhost:8080/"
        },
        "id": "-Gt64ISRKPkS",
        "outputId": "9f0696df-a4cc-4459-c8d3-bee8ac69dc3c"
      },
      "execution_count": null,
      "outputs": [
        {
          "output_type": "execute_result",
          "data": {
            "text/plain": [
              "{'Clip5_154321 ', nan}"
            ]
          },
          "metadata": {},
          "execution_count": 38
        }
      ]
    },
    {
      "cell_type": "code",
      "source": [
        "count_speed = 0\n",
        "count_color = 0\n",
        "count_make_model = 0\n",
        "count_lp = 0\n",
        "num_rows_orig = df_original.shape[0]\n",
        "\n",
        "missing = 0\n",
        "# Display the result\n",
        "for name,group in grouped_df_original:\n",
        "  # Iterate through each row in df1\n",
        "  for index, row in group.iterrows():\n",
        "      if name not in df_predicted['filename'].values:\n",
        "        missing+=1\n",
        "        continue\n",
        "      speed = row['Speed (estimate) MPH']\n",
        "      id = row['id']\n",
        "      color = row['Color']\n",
        "      make = row['Make']\n",
        "      model = row['Model']\n",
        "      licenceplate = row['Plate #'].replace(\" \", \"\")\n",
        "\n",
        "      print(name,id)\n",
        "      print(f'original -  s:{speed},c:{color},make:{make},model:{model},lp:{licenceplate}')\n",
        "      # Use boolean indexing to extract the row based on conditions\n",
        "      selected_row = df_predicted[(df_predicted['filename'] == name) & (df_predicted['vehc_id'] == id)]\n",
        "\n",
        "      #print(\"selected_row:\",selected_row)\n",
        "      #print(\"speed:\",selected_row['avg_vehc_speed'])\n",
        "\n",
        "      if name == 'Clip5_154321 ' and id == 1:\n",
        "        selected_row = df_predicted[(df_predicted['filename'] == 'Clip5_154321') & (df_predicted['vehc_id'] == 1)]\n",
        "        speed_p = selected_row['avg_vehc_speed'].values[0]\n",
        "\n",
        "\n",
        "      else:\n",
        "        print(\"speed:\",selected_row['avg_vehc_speed'])\n",
        "        speed_p = selected_row['avg_vehc_speed'].values[0]\n",
        "\n",
        "      #print(\"speed_p:\",speed_p)\n",
        "\n",
        "      #print(\"hi:\",type(selected_row['freq_vehc_colr_1'].values[0]))\n",
        "      #print(\"bye:\",type(list(color_2_p.keys())))\n",
        "      color_2_p = json.loads(selected_row['freq_vehc_colr_2'].values[0].replace(\"'\", \"\\\"\"))\n",
        "      color_p = ast.literal_eval(selected_row['freq_vehc_colr_1'].values[0]) + list(color_2_p.keys())\n",
        "      color_is_contained = any(color.lower() in word.lower() for word in color_p)\n",
        "\n",
        "\n",
        "\n",
        "      mm_1_p = json.loads(selected_row['freq_mmr_1'].values[0].replace(\"'\", \"\\\"\"))\n",
        "      mm_2_p = json.loads(selected_row['freq_mmr_2'].values[0].replace(\"'\", \"\\\"\"))\n",
        "      mm_p = list(mm_1_p.keys()) + list(mm_2_p.keys())\n",
        "\n",
        "      mm_is_contained = any(make in word for word in mm_p) #and any(str(model) in word for word in mm_p)\n",
        "\n",
        "      print(f'pred -  s:{speed_p},c:{color_p},make and model:{mm_p}')\n",
        "\n",
        "\n",
        "\n",
        "\n",
        "      if licenceplate!='NA':\n",
        "        lp_is_contained = True\n",
        "        if selected_row['freq_lp_chrs'].values[0] !='':\n",
        "          #print(\"hi:\",selected_row['freq_lp_chrs'].values[0])\n",
        "          lp_temp_p = ast.literal_eval(selected_row['freq_lp_chrs'].values[0])\n",
        "          first_elements = [t[0] for t in lp_temp_p]\n",
        "          lp_p = first_elements\n",
        "          for char in licenceplate:\n",
        "            if char in lp_p:\n",
        "              continue\n",
        "            else:\n",
        "              lp_is_contained = False\n",
        "              break\n",
        "          if lp_is_contained:\n",
        "            count_lp+=1\n",
        "\n",
        "      if mm_is_contained:\n",
        "        count_make_model+=1\n",
        "\n",
        "\n",
        "      if color_is_contained:\n",
        "        count_color+=1\n",
        "\n",
        "      if speed-15 <= speed_p <= speed+15:\n",
        "        count_speed+=1\n",
        "print(\"number of missing rows:\",missing)\n",
        "print(f'Color:{count_color}, MMR:{count_make_model}, Speed:{count_speed}, LP: {count_lp}')\n",
        "num_rows_orig = num_rows_orig - missing\n",
        "print(\"number of rows:\",num_rows_orig)\n",
        "print(f'Color:{count_color/num_rows_orig}, MMR:{count_make_model/num_rows_orig}, Speed:{count_speed/num_rows_orig}, LP: {count_lp/num_rows_orig}')"
      ],
      "metadata": {
        "colab": {
          "base_uri": "https://localhost:8080/"
        },
        "id": "tS5dUoC0lthW",
        "outputId": "c154e4c6-1618-43da-c4bc-0a9487b129ce"
      },
      "execution_count": null,
      "outputs": [
        {
          "output_type": "stream",
          "name": "stdout",
          "text": [
            "Clip1_120042 1\n",
            "original -  s:20.0,c:Gray,make:Land Rover,model:Range Rover,lp:NA\n",
            "speed: 483    64.46\n",
            "Name: avg_vehc_speed, dtype: float64\n",
            "pred -  s:64.46,c:['black', 'black', 'darkslategray', 'dimgray'],make and model:['Hyundai Santa Fe', 'Gmc C, K, R, V Series', 'Pontiac Grand Prix', 'Honda Civic', 'Rolls-Royce Phantom Sedan', 'Chevrolet Blazer']\n",
            "Clip1_130247 2\n",
            "original -  s:35.0,c:Gray,make:Toyota,model:Highlander,lp:NLP3807\n",
            "speed: 159    16.02\n",
            "Name: avg_vehc_speed, dtype: float64\n",
            "pred -  s:16.02,c:['black', 'darkslategray', 'silver', 'dimgray'],make and model:['Gmc C, K, R, V Series', 'Gmc Acadia', 'Nissan Murano', 'Nissan Juke Hatchback', 'Mercedes-Benz Sprinter Van', 'Chevrolet Impala']\n",
            "Clip1_154045 1\n",
            "original -  s:26.0,c:Black,make:Volkswagen,model:Jetta,lp:NA\n",
            "speed: 197    36.61\n",
            "Name: avg_vehc_speed, dtype: float64\n",
            "pred -  s:36.61,c:['black', 'darkslategray', 'black', 'dimgray'],make and model:['Nissan 810 Maxima', 'Gmc C, K, R, V Series', 'Chevrolet Impala Caprice', 'Ford Mustang', 'Chevrolet Camaro', 'Audi RS 4 Convertible']\n",
            "Clip1_154321 1\n",
            "original -  s:24.74,c:Gray,make:Ford,model:Fusion,lp:NA\n",
            "speed: 568    48.29\n",
            "Name: avg_vehc_speed, dtype: float64\n",
            "pred -  s:48.29,c:['blue', 'darkgray', 'black', 'lightslategray'],make and model:['Ford Fusion', 'Gmc C, K, R, V Series', 'Chevrolet Impala Caprice', 'Bentley Mulsanne Sedan', 'Toyota Corolla', 'Ford Expedition']\n",
            "Clip1_154525 1\n",
            "original -  s:31.3,c:white,make:Kia,model:Stinger,lp:NA\n",
            "speed: 519    127.76\n",
            "Name: avg_vehc_speed, dtype: float64\n",
            "pred -  s:127.76,c:['white', 'darkslategray', 'gray', 'black'],make and model:['Dodge Dakota', 'Nissan 810 Maxima', 'Chevrolet Impala Caprice', 'Chevrolet Corvette Ron Fellows Edition Z06', 'Bentley Continental GT Coupe', 'Nissan Juke Hatchback']\n",
            "Clip1_154555 1\n",
            "original -  s:21.675,c:White,make:Tesla,model:Model X,lp:NA\n",
            "speed: 493    77.14\n",
            "Name: avg_vehc_speed, dtype: float64\n",
            "pred -  s:77.14,c:['white', 'darkslategray', 'whitesmoke', 'dimgray'],make and model:['Gmc C, K, R, V Series', 'Cadillac Cts', 'Ford Focus', 'Tesla Model S Sedan', 'Pontiac Grandprix', 'Mazda 3']\n",
            "Clip1_154555 4\n",
            "original -  s:21.675,c:Orange,make:Porshe,model:Cayenne,lp:NA\n",
            "speed: 496    45.99\n",
            "Name: avg_vehc_speed, dtype: float64\n",
            "pred -  s:45.99,c:['black', 'black', 'darkslategray', 'dimgray'],make and model:['Gmc C, K, R, V Series', 'Chevrolet Equinox', 'Cadillac Cts', 'Dodge Neon', 'Pontiac Grandam', 'Nissan 350Z']\n",
            "Clip1_154740 1\n",
            "original -  s:26.404,c:Navy,make:Ford,model:F-150,lp:NA\n",
            "speed: 285    41.3\n",
            "Name: avg_vehc_speed, dtype: float64\n",
            "pred -  s:41.3,c:['gray', 'gray', 'darkslategray', 'darkgray'],make and model:['Ford Ranger', 'Chevrolet Impala Caprice', 'Dodge Caravan', 'Ford F250', 'Toyota Fjcruiser', 'Ford Expedition']\n",
            "Clip1_155318 1\n",
            "original -  s:22.3,c:Blue,make:Volkswagen,model:Beetle,lp:NA\n",
            "speed: 36    164.5\n",
            "Name: avg_vehc_speed, dtype: float64\n",
            "pred -  s:164.5,c:['black', 'black', 'midnightblue', 'darkslategray'],make and model:['Hyundai Sonata', 'Ford Focus', 'Ford Taurus', 'Ford Explorer', 'Mini Cooper', 'Ford Mustang']\n",
            "Clip1_155318 3\n",
            "original -  s:21.6,c:Gray,make:Toyota,model:Prius,lp:NA\n",
            "speed: 37    23.6\n",
            "Name: avg_vehc_speed, dtype: float64\n",
            "pred -  s:23.6,c:['black', 'darkslategray', 'black', 'dimgray'],make and model:['Nissan Frontier', 'Toyota Corolla', 'Chevrolet Impala Caprice', 'Mercury Mountaineer', 'Ford Focus', 'Lincoln Navigator']\n",
            "Clip1_4629 2\n",
            "original -  s:35.0,c:Black,make:Mazda,model:Mazda 3,lp:NA\n",
            "speed: 297    59.02\n",
            "Name: avg_vehc_speed, dtype: float64\n",
            "pred -  s:59.02,c:['black', 'darkslategray', 'gray', 'black'],make and model:['Chevrolet Impala Caprice', 'Chrysler 200', 'Ford Edge', 'Mercedes-Benz S-Class Sedan', 'Chevrolet Malibu', 'Hyundai Sonata Hybrid Sedan']\n",
            "Clip1_4635 1\n",
            "original -  s:45.0,c:Gray,make:Honda,model:Civic,lp:NGC0507\n",
            "speed: 336    64.61\n",
            "Name: avg_vehc_speed, dtype: float64\n",
            "pred -  s:64.61,c:['black', 'darkslategray', 'black', 'dimgray'],make and model:['Volkswagen Jetta', 'Volkswagen Passat', 'Chevrolet Equinox', 'Mitsubishi Eclipse', 'Hyundai Sonata', 'Ford Taurus']\n",
            "Clip1_4636 14\n",
            "original -  s:55.0,c:Silver,make:Nissan,model:Altima,lp:NA\n",
            "speed: 541    28.36\n",
            "Name: avg_vehc_speed, dtype: float64\n",
            "pred -  s:28.36,c:['gray', 'gray', 'darkgray', 'darkslategray'],make and model:['Gmc C, K, R, V Series', 'Toyota Pruis', 'Infiniti G25', 'Ford F150', 'Acura TL Type-S', 'Dodge Neon']\n",
            "Clip1_4636 25\n",
            "original -  s:55.0,c:Gray,make:Kia,model:K5,lp:NA\n",
            "speed: 545    33.97\n",
            "Name: avg_vehc_speed, dtype: float64\n",
            "pred -  s:33.97,c:['gray', 'dimgray', 'darkslategray', 'darkgray'],make and model:['Gmc C, K, R, V Series', 'Infiniti G25', 'Nissan 810 Maxima', 'Ford Taurus', 'Chevrolet Impala', 'Bmw 328I']\n",
            "Clip2_120042 4\n",
            "original -  s:20.0,c:Gray,make:Honda,model:Civic,lp:LCV2036\n",
            "speed: 465    38.2\n",
            "Name: avg_vehc_speed, dtype: float64\n",
            "pred -  s:38.2,c:['black', 'black', 'darkslategray', 'slategray'],make and model:['Toyota Corolla', 'Volkswagen Jetta', 'Kia Optima', 'Chrysler Town&Country', 'Ford Escape', 'Toyota Camry']\n",
            "Clip2_130247 32\n",
            "original -  s:35.0,c:White,make:Lexus,model:NX,lp:NA\n",
            "speed: 278    476.21\n",
            "Name: avg_vehc_speed, dtype: float64\n",
            "pred -  s:476.21,c:['blue', 'darkslategray', 'silver', 'dimgray'],make and model:['Chevrolet Impala Caprice', 'Toyota Sienna', 'Toyota Camry', 'Lamborghini Gallardo LP 570-4 Superleggera', 'Lamborghini Reventon Coupe', 'Chrysler 300']\n",
            "Clip2_154045 1\n",
            "original -  s:51.81,c:Gray,make:Toyota,model:Tacoma,lp:NA\n",
            "speed: 400    0.0\n",
            "Name: avg_vehc_speed, dtype: float64\n",
            "pred -  s:0.0,c:['black', 'darkslategray', 'black', 'dimgray'],make and model:['Gmc C, K, R, V Series', 'Toyota Sequoia', 'Chevrolet Suburban', 'Toyota Sequoia SUV', 'Dodge Neon', 'Chevrolet Camaro']\n",
            "Clip2_154321 2\n",
            "original -  s:30.56,c:Black,make:Toyota,model:Camry,lp:NA\n",
            "speed: 41    24.47\n",
            "Name: avg_vehc_speed, dtype: float64\n",
            "pred -  s:24.47,c:['black', 'black', 'darkslategray', 'lightgray'],make and model:['Gmc C, K, R, V Series', 'Dodge Dakota', 'Nissan Murano', 'Mini Cooper', 'Bentley Mulsanne Sedan', 'Chevrolet Cruze']\n",
            "Clip2_154525 1\n",
            "original -  s:50.44,c:Black,make:Mercedes,model:AMG GLE,lp:NA\n",
            "speed: 395    0.0\n",
            "Name: avg_vehc_speed, dtype: float64\n",
            "pred -  s:0.0,c:['black', 'black', 'darkslategray', 'dimgray'],make and model:['Nissan Murano', 'Gmc C, K, R, V Series', 'Hyundai Santa Fe', 'Ford Taurus', 'Honda Civic Coupe', 'Audi TT RS Coupe']\n",
            "Clip2_154555 1\n",
            "original -  s:32.27,c:Red,make:Kia,model:Rio,lp:NA\n",
            "speed: 290    192.11\n",
            "Name: avg_vehc_speed, dtype: float64\n",
            "pred -  s:192.11,c:['black', 'black', 'darkslategray', 'rosybrown'],make and model:['Kia Sportage', 'Gmc C, K, R, V Series', 'Nissan Versa', 'Scion Tc', 'Ford Edge', 'GMC Acadia SUV']\n",
            "Clip2_154740 2\n",
            "original -  s:36.5626,c:Gray,make:Toyota ,model:RAV4,lp:NA\n",
            "speed: 139    41.31\n",
            "Name: avg_vehc_speed, dtype: float64\n",
            "pred -  s:41.31,c:['gray', 'gray', 'darkslategray', 'dimgray'],make and model:['Nissan Murano', 'Gmc C, K, R, V Series', 'Dodge Dakota', 'Ford Edge', 'Bentley Mulsanne Sedan', 'Mercedes-Benz SL-Class Coupe']\n",
            "Clip2_155318 2\n",
            "original -  s:20.78,c:Gray,make:Toyota,model:Camry,lp:NA\n",
            "speed: 501    41.91\n",
            "Name: avg_vehc_speed, dtype: float64\n",
            "pred -  s:41.91,c:['black', 'darkslategray', 'black', 'silver'],make and model:['Gmc C, K, R, V Series', 'Hyundai Tucson', 'Pontiac Grand Prix', 'Bentley Mulsanne Sedan', 'Mercedes-Benz SL-Class Coupe', 'Jeep Cherokee']\n",
            "Clip2_155318 5\n",
            "original -  s:19.1,c:Gray,make:Honda,model:Pilot,lp:NJC8527\n",
            "speed: 503    33.36\n",
            "Name: avg_vehc_speed, dtype: float64\n",
            "pred -  s:33.36,c:['black', 'black', 'midnightblue', 'darkslategray'],make and model:['Chevrolet Equinox', 'Chrysler 300M', 'Gmc C, K, R, V Series', 'Toyota Camry', 'Mazda 6', 'Honda Accord']\n",
            "Clip2_4629 2\n",
            "original -  s:35.0,c:Black,make:Honda,model:CRV,lp:NA\n",
            "speed: 258    100.58\n",
            "Name: avg_vehc_speed, dtype: float64\n",
            "pred -  s:100.58,c:['gray', 'black', 'darkslategray', 'darkgray'],make and model:['Kia Optima', 'Honda Odyssey', 'Acura Tl', 'Mercedes-Benz Sprinter Van', 'Acura TL Type-S', 'Hyundai Veracruz SUV']\n",
            "Clip2_4635 14\n",
            "original -  s:45.0,c:White,make:Toyota,model:Sienna,lp:RBW7472\n",
            "speed: 184    37.65\n",
            "Name: avg_vehc_speed, dtype: float64\n",
            "pred -  s:37.65,c:['black', 'black', 'gray', 'darkslategray'],make and model:['Toyota Sienna', 'Ford Ranger', 'Pontiac Grand Prix', 'Chevrolet Camaro', 'Mazda Rx8', 'Ford Taurus']\n",
            "Clip2_4636 3\n",
            "original -  s:55.0,c:Gray,make:Toyota,model:Sienna,lp:NA\n",
            "speed: 127    18.13\n",
            "Name: avg_vehc_speed, dtype: float64\n",
            "pred -  s:18.13,c:['black', 'darkslategray', 'dimgray', 'black'],make and model:['Chrysler Sebring', 'Toyota Corolla', 'Kia Soul', 'Nissan Maxima', 'Mini Cooper', 'Lamborghini Gallardo LP 570-4 Superleggera']\n",
            "Clip3_120042 3\n",
            "original -  s:20.0,c:Red,make:Audi,model:S4,lp:RSF7196\n",
            "speed: 574    9.34\n",
            "Name: avg_vehc_speed, dtype: float64\n",
            "pred -  s:9.34,c:['black', 'black', 'darkslategray', 'gray'],make and model:['Hyundai Accent', 'Gmc C, K, R, V Series', 'Honda Accord', 'Mitsubishi Lancer Sedan', 'Ford Fusion', 'Honda Accord']\n",
            "Clip3_130247 10\n",
            "original -  s:35.0,c:Black,make:Honda,model:Pilot,lp:NA\n",
            "speed: 228    67.85\n",
            "Name: avg_vehc_speed, dtype: float64\n",
            "pred -  s:67.85,c:['gray', 'darkslategray', 'dimgray', 'lightgray'],make and model:['Gmc C, K, R, V Series', 'Chevrolet Impala Caprice', 'Cadillac Cts', 'Nissan Maxima', 'Nissan Altima', 'Bentley Mulsanne Sedan']\n",
            "Clip3_154321 2\n",
            "original -  s:24.2,c:Black,make:Ford,model:Expedition,lp:NA\n",
            "speed: 96    88.0\n",
            "Name: avg_vehc_speed, dtype: float64\n",
            "pred -  s:88.0,c:['black', 'darkslategray', 'black', 'dimgray'],make and model:['Chrysler Town And Country', 'Ford Explorer', 'Ford Edge', 'Gmc Yukon 1500', 'Ford F150', 'Mazda Rx8']\n",
            "Clip3_154321 1\n",
            "original -  s:24.4,c:Black,make:Jeep,model:Wrangler,lp:NA\n",
            "speed: 95    45.83\n",
            "Name: avg_vehc_speed, dtype: float64\n",
            "pred -  s:45.83,c:['black', 'black', 'darkslategray', 'dimgray'],make and model:['Chevrolet Equinox', 'Toyota Sequoia', 'Chevrolet Trailblazer', 'Audi TTS Coupe', 'Aston Martin Virage Convertible', 'Jeep Wrangler']\n",
            "Clip3_154525 1\n",
            "original -  s:57.7,c:Silver,make:Mazda,model:Mazda 3,lp:NA\n",
            "speed: 201    64.64\n",
            "Name: avg_vehc_speed, dtype: float64\n",
            "pred -  s:64.64,c:['black', 'darkslategray', 'black', 'dimgray'],make and model:['Nissan 810 Maxima', 'Nissan Murano', 'Ford Fusion', 'Hyundai Azera Sedan', 'Chevrolet Cobalt', 'Ford Focus']\n",
            "Clip3_154740 1\n",
            "original -  s:23.61,c:Gray,make:Toyota ,model:Corolla ,lp:KHC4995\n",
            "speed: 25    17.96\n",
            "Name: avg_vehc_speed, dtype: float64\n",
            "pred -  s:17.96,c:['black', 'darkslategray', 'black', 'darkgray'],make and model:['Toyota Corolla', 'Cadillac Cts', 'Lexus Es250', 'Chevrolet Camaro', 'Honda Civic', 'Hyundai Sonata']\n",
            "Clip3_155318 3\n",
            "original -  s:19.98,c:Red,make:Nissan,model:Rogue,lp:NA\n",
            "speed: 553    41.58\n",
            "Name: avg_vehc_speed, dtype: float64\n",
            "pred -  s:41.58,c:['black', 'darkslategray', 'black', 'darkslateblue'],make and model:['Nissan Sentra', 'Ford Ranger', 'Chevrolet Equinox', 'Chevrolet Silverado', 'Chevrolet Cruze', 'Bentley Mulsanne Sedan']\n",
            "Clip3_155318 2\n",
            "original -  s:19.98,c:Gray,make:Kia,model:Sorento,lp:NA\n",
            "speed: 552    25.98\n",
            "Name: avg_vehc_speed, dtype: float64\n",
            "pred -  s:25.98,c:['black', 'darkslategray', 'darkgray', 'gainsboro'],make and model:['Gmc C, K, R, V Series', 'Toyota Camry', 'Ford Escape', 'Chevrolet Camaro', 'Bmw X5', 'Chrysler Sebring']\n",
            "Clip3_4629 3\n",
            "original -  s:35.0,c:Silver,make:Honda,model:Odyssey,lp:NA\n",
            "speed: 456    20.36\n",
            "Name: avg_vehc_speed, dtype: float64\n",
            "pred -  s:20.36,c:['gray', 'gray', 'gainsboro', 'darkgray'],make and model:['Chrysler 200', 'Acura Tl', 'Chrysler Town And Country', 'Honda Odyssey', 'Mercedes-Benz Sprinter Van', 'Chrysler Pacifica']\n",
            "Clip3_4635 1\n",
            "original -  s:45.0,c:White,make:Lexus,model:LS,lp:HFB9037\n",
            "speed: 590    52.25\n",
            "Name: avg_vehc_speed, dtype: float64\n",
            "pred -  s:52.25,c:['black', 'black', 'dimgray', 'darkgray'],make and model:['Lexus Es250', 'Honda Odyssey', 'Cadillac Cts', 'Mercedes-Benz Sprinter Van', 'Bentley Mulsanne Sedan', 'Hyundai Sonata']\n",
            "Clip3_4636 1\n",
            "original -  s:55.0,c:Blue,make:Honda,model:Accord,lp:NA\n",
            "speed: 437    26.5\n",
            "Name: avg_vehc_speed, dtype: float64\n",
            "pred -  s:26.5,c:['blue', 'darkslategray', 'darkgray', 'black'],make and model:['Gmc C, K, R, V Series', 'Chevrolet Impala Caprice', 'Dodge Dakota', 'Dodge Charger', 'Mercedes-Benz 300-Class Convertible', 'Audi A4']\n",
            "Clip4_120042 10\n",
            "original -  s:20.0,c:Gray,make:Toyota,model:RAV4,lp:PSL1864\n",
            "speed: 429    25.7\n",
            "Name: avg_vehc_speed, dtype: float64\n",
            "pred -  s:25.7,c:['black', 'black', 'darkslategray', 'dimgray'],make and model:['Toyota Rav4', 'Hyundai Tucson', 'Honda Odyssey', 'Dodge Grand Caravan', 'Mini Cooper', 'Chrysler Pacifica']\n",
            "Clip4_154321 1\n",
            "original -  s:30.56,c:White,make:Toyota,model:Tundra,lp:LZP5316\n",
            "speed: 315    82.04\n",
            "Name: avg_vehc_speed, dtype: float64\n",
            "pred -  s:82.04,c:['blue', 'darkslategray', 'black', 'dimgray'],make and model:['Toyota Tundra', 'Ford Expedition', 'Gmc C, K, R, V Series', 'Cadillac Escalade', 'Toyota Sequoia', 'Ford Edge']\n",
            "Clip4_154321 2\n",
            "original -  s:25.1,c:Gray,make:Ford,model:Mustang,lp:NA\n",
            "speed: 316    47.88\n",
            "Name: avg_vehc_speed, dtype: float64\n",
            "pred -  s:47.88,c:['blue', 'black', 'darkgray', 'darkslategray'],make and model:['Buick Century', 'Ford Mustang', 'Toyota Tundra', 'Nissan Maxima', 'BMW 1 Series Convertible', 'Chevrolet Corvette']\n",
            "Clip4_154525 1\n",
            "original -  s:50.44,c:Red,make:Cadillac,model:XT5,lp:NA\n",
            "speed: 242    62.63\n",
            "Name: avg_vehc_speed, dtype: float64\n",
            "pred -  s:62.63,c:['orange', 'red', 'black', 'brown', 'darkslategray'],make and model:['Gmc C, K, R, V Series', 'Cadillac Srx', 'Ford Escape', 'Chevrolet Silverado', 'Cadillac Escalade EXT Crew Cab', 'Chevrolet Corvette']\n",
            "Clip4_154740 1\n",
            "original -  s:33.84,c:White,make:Audi,model:A4,lp:NA\n",
            "speed: 559    34.1\n",
            "Name: avg_vehc_speed, dtype: float64\n",
            "pred -  s:34.1,c:['black', 'black', 'darkslategray', 'lightslategray'],make and model:['Cadillac Cts', 'Nissan Sentra', 'Hyundai Accent', 'Nissan Juke Hatchback', 'Chrysler Sebring', 'Hyundai Sonata']\n",
            "Clip4_155318 2\n",
            "original -  s:33.9,c:Gray,make:Toyota ,model:RAV4,lp:SST8874\n",
            "speed: 326    26.78\n",
            "Name: avg_vehc_speed, dtype: float64\n",
            "pred -  s:26.78,c:['black', 'darkslategray', 'midnightblue', 'dimgray'],make and model:['Gmc C, K, R, V Series', 'Hyundai Sonata', 'Nissan Murano', 'Chrysler 300', 'Ford Edge', 'Audi A4']\n",
            "Clip4_4635 1\n",
            "original -  s:45.0,c:Black,make:Chevy,model:Equinox,lp:NGB9910\n",
            "speed: 69    39.18\n",
            "Name: avg_vehc_speed, dtype: float64\n",
            "pred -  s:39.18,c:['black', 'black', 'darkslategray', 'dimgray'],make and model:['Buick Enclave', 'Nissan Murano', 'Buick Lesabre', 'Chevrolet Impala', 'Hyundai Sonata', 'Chevrolet Silverado']\n",
            "Clip4_4636 3\n",
            "original -  s:55.0,c:Silver,make:Kia,model:Soul,lp:NA\n",
            "speed: 358    28.29\n",
            "Name: avg_vehc_speed, dtype: float64\n",
            "pred -  s:28.29,c:['black', 'darkslategray', 'darkgray', 'black'],make and model:['Kia Soul', 'Honda Odyssey', 'Gmc C, K, R, V Series', 'Nissan Maxima', 'Nissan Leaf Hatchback', 'Chevrolet Express Van']\n",
            "Clip4_4636 28\n",
            "original -  s:55.0,c:White ,make:Subaru ,model:Outback,lp:NA\n",
            "speed: 370    27.23\n",
            "Name: avg_vehc_speed, dtype: float64\n",
            "pred -  s:27.23,c:['gray', 'darkgray', 'dimgray', 'black'],make and model:['Gmc C, K, R, V Series', 'Pontiac Grand Prix', 'Cadillac Cts', 'Ford Expedition', 'Lamborghini Reventon Coupe', 'Rolls-Royce Phantom Drophead Coupe Convertible']\n",
            "Clip4_4636 43\n",
            "original -  s:55.0,c:Green,make:Subaru ,model:Outback,lp:NA\n",
            "speed: 374    46.56\n",
            "Name: avg_vehc_speed, dtype: float64\n",
            "pred -  s:46.56,c:['black', 'darkslategray', 'dimgray', 'darkgray'],make and model:['Lexus Es250', 'Nissan 810 Maxima', 'Chevrolet Impala Caprice', 'Ford F150', 'Chevrolet Cobalt', 'Chevrolet Camaro']\n",
            "Clip4_4636 53\n",
            "original -  s:55.0,c:Silver,make:Lexus,model:LS,lp:NA\n",
            "speed: 375    80.4\n",
            "Name: avg_vehc_speed, dtype: float64\n",
            "pred -  s:80.4,c:['gray', 'dimgray', 'darkgray', 'darkslategray'],make and model:['Dodge Caravan', 'Chevrolet Impala Caprice', 'Ford Taurus', 'Volkswagen Jetta', 'Nissan Maxima', 'Audi A4']\n",
            "Clip5_120042 3\n",
            "original -  s:20.0,c:Red,make:Honda,model:Fit,lp:RMV5375\n",
            "speed: 2    17.8\n",
            "Name: avg_vehc_speed, dtype: float64\n",
            "pred -  s:17.8,c:['black', 'darkslategray', 'slategray', 'black'],make and model:['Honda Civic', 'Toyota Corolla', 'Hyundai Accent', 'Nissan Juke Hatchback', 'Mitsubishi Eclipse', 'Honda Accord']\n",
            "Clip5_154525 1\n",
            "original -  s:41.22,c:White,make:BMW,model:3 series,lp:NA\n",
            "speed: 51    56.39\n",
            "Name: avg_vehc_speed, dtype: float64\n",
            "pred -  s:56.39,c:['white', 'darkslategray', 'black', 'slategray'],make and model:['Lexus Es250', 'Hyundai Sonata', 'Nissan Sentra', 'Toyota Camry', 'Bentley Continental Supersports Conv. Convertible', 'Ford Taurus']\n",
            "Clip5_154740 1\n",
            "original -  s:35.42,c:Navy,make:Hyundai,model:Accent,lp:NA\n",
            "speed: 386    31.65\n",
            "Name: avg_vehc_speed, dtype: float64\n",
            "pred -  s:31.65,c:['gray', 'darkslategray', 'dimgray', 'darkgray'],make and model:['Chrysler Town And Country', 'Chevrolet Impala Caprice', 'Kia Soul', 'Bentley Mulsanne Sedan', 'Chrysler 300', 'smart fortwo Convertible']\n",
            "Clip5_155318 2\n",
            "original -  s:22.6,c:Gray,make:Toyota,model:Camry,lp:LNF8082\n",
            "speed: 15    44.49\n",
            "Name: avg_vehc_speed, dtype: float64\n",
            "pred -  s:44.49,c:['blue', 'darkslategray', 'black', 'darkslateblue'],make and model:['Dodge Dakota', 'Gmc C, K, R, V Series', 'Toyota Camry', 'Bentley Mulsanne Sedan', 'Chevrolet Cruze', 'Jeep Liberty']\n",
            "Clip5_155318 1\n",
            "original -  s:21.1,c:Gray,make:Subaru,model:Outback,lp:NA\n",
            "speed: 14    43.33\n",
            "Name: avg_vehc_speed, dtype: float64\n",
            "pred -  s:43.33,c:['black', 'darkslategray', 'dimgray', 'black'],make and model:['Chevrolet Malibu', 'Chevrolet Impala Caprice', 'Infiniti G25', 'Nissan Xterra', 'Ford F150', 'Bentley Mulsanne Sedan']\n",
            "Clip5_4635 19\n",
            "original -  s:45.0,c:Black,make:Ford,model:Ranger,lp:RLF3116\n",
            "speed: 416    54.17\n",
            "Name: avg_vehc_speed, dtype: float64\n",
            "pred -  s:54.17,c:['black', 'black', 'darkslategray', 'darkgray'],make and model:['Nissan Frontier', 'Mercury Marquis', 'Ford Ranger', 'Ford F-150 Regular Cab', 'Eagle Talon Hatchback', 'GMC Acadia SUV']\n",
            "Clip5_4636 10\n",
            "original -  s:55.0,c:White ,make:GMC,model:Acadia,lp:NA\n",
            "speed: 111    10.57\n",
            "Name: avg_vehc_speed, dtype: float64\n",
            "pred -  s:10.57,c:['black', 'darkgray', 'black', 'dimgray'],make and model:['Gmc Acadia', 'Gmc C, K, R, V Series', 'Buick Lesabre', 'GMC Acadia SUV', 'Ford F150', 'Audi A4']\n",
            "Clip5_4636 27\n",
            "original -  s:55.0,c:Green,make:Ram,model:1500,lp:NA\n",
            "speed: 118    1717.08\n",
            "Name: avg_vehc_speed, dtype: float64\n",
            "pred -  s:1717.08,c:['black', 'darkslategray', 'dimgray', 'black'],make and model:['Ford F Series', 'Nissan Pathfinder', 'Chevrolet Colorado', 'Chevrolet Camaro', 'Mini Cooper', 'Lamborghini Gallardo LP 570-4 Superleggera']\n",
            "Clip6_120042 1\n",
            "original -  s:20.0,c:White,make:Ford,model:Edge,lp:SHC4451\n",
            "speed: 81    6.03\n",
            "Name: avg_vehc_speed, dtype: float64\n",
            "pred -  s:6.03,c:['black', 'black', 'darkgray', 'darkslategray'],make and model:['Ford Escape', 'Gmc C, K, R, V Series', 'Chevrolet Colorado', 'Ford Explorer', 'Chevrolet Impala', 'Chrysler Pacifica']\n",
            "Clip6_154321 2\n",
            "original -  s:42.2,c:Black,make:GMC,model:Sierra,lp:NA\n",
            "speed: 149    16.88\n",
            "Name: avg_vehc_speed, dtype: float64\n",
            "pred -  s:16.88,c:['black', 'darkslategray', 'black', 'dimgray'],make and model:['Ford F Series', 'Dodge Ram Pickup', 'Gmc C, K, R, V Series', 'Ford F150', 'Dodge Ram 1500', 'Land Rover Range Rover SUV']\n",
            "Clip6_154740 1\n",
            "original -  s:43.35,c:gray,make:Volkswagen,model:Tiguan,lp:NA\n",
            "speed: 511    32.19\n",
            "Name: avg_vehc_speed, dtype: float64\n",
            "pred -  s:32.19,c:['black', 'black', 'darkslategray', 'lightslategray'],make and model:['Nissan Pathfinder', 'Hyundai Santa Fe', 'Hyundai Tucson', 'Dodge Neon', 'Pontiac Grandprix', 'Land Rover Range Rover SUV']\n",
            "Clip6_155318 1\n",
            "original -  s:36.58,c:Gray,make:Nissan,model:Altima,lp:MZN3433\n",
            "speed: 250    0.0\n",
            "Name: avg_vehc_speed, dtype: float64\n",
            "pred -  s:0.0,c:['blue', 'gray', 'darkslategray', 'darkslateblue', 'lightslategray'],make and model:['Ford Ranger', 'Nissan Sentra', 'Lexus Es250', 'Bentley Mulsanne Sedan', 'Honda Civic', 'Chevrolet Cruze']\n",
            "Clip6_4635 9\n",
            "original -  s:45.0,c:White,make:Audi,model:Q7,lp:RCM3763\n",
            "speed: 212    35.02\n",
            "Name: avg_vehc_speed, dtype: float64\n",
            "pred -  s:35.02,c:['black', 'black', 'gray', 'darkslategray'],make and model:['Chevrolet Impala Caprice', 'Kia Sportage', 'Buick Lesabre', 'Nissan Altima', 'McLaren MP4-12C Coupe', 'Audi S6 Sedan']\n",
            "Clip7_154740 1\n",
            "original -  s:51.81,c:Red,make:Jeep,model:Rubicon,lp:NA\n",
            "speed: 305    27.0\n",
            "Name: avg_vehc_speed, dtype: float64\n",
            "pred -  s:27.0,c:['gray', 'orange', 'yellow', 'darkslategray', 'rosybrown', 'dimgray'],make and model:['Dodge Dakota', 'Gmc C, K, R, V Series', 'Jeep Liberty', 'Jeep Wrangler SUV', 'Ford F150', 'Infiniti G35']\n",
            "Clip7_155318 1\n",
            "original -  s:51.81,c:Black,make:Mazda,model:Mazda 3,lp:NHP6340\n",
            "speed: 62    27.5\n",
            "Name: avg_vehc_speed, dtype: float64\n",
            "pred -  s:27.5,c:['black', 'black', 'darkslategray', 'midnightblue'],make and model:['Gmc C, K, R, V Series', 'Nissan Altima', 'Nissan Sentra', 'Chrysler Town&Country', 'Toyota Prius', 'Audi TTS Coupe']\n",
            "Clip8_155318 2\n",
            "original -  s:20.78,c:Green,make:Chevy,model:Silverado,lp:AY41699\n",
            "speed: 478    34.4\n",
            "Name: avg_vehc_speed, dtype: float64\n",
            "pred -  s:34.4,c:['black', 'black', 'darkslategray', 'silver'],make and model:['Chevrolet Equinox', 'Gmc C, K, R, V Series', 'Buick Lesabre', 'Ford F150', 'Chevrolet Corvette Ron Fellows Edition Z06', 'Chevrolet Tahoe']\n",
            "number of missing rows: 1\n",
            "Color:38, MMR:29, Speed:26, LP: 3\n",
            "number of rows: 66\n",
            "Color:0.5757575757575758, MMR:0.4393939393939394, Speed:0.3939393939393939, LP: 0.045454545454545456\n"
          ]
        }
      ]
    },
    {
      "cell_type": "code",
      "source": [],
      "metadata": {
        "id": "y6ZV7VOuHMdn"
      },
      "execution_count": null,
      "outputs": []
    },
    {
      "cell_type": "code",
      "source": [],
      "metadata": {
        "id": "JNX3qeWsHMgS"
      },
      "execution_count": null,
      "outputs": []
    },
    {
      "cell_type": "code",
      "source": [],
      "metadata": {
        "id": "6uYr3-yxHMjD"
      },
      "execution_count": null,
      "outputs": []
    },
    {
      "cell_type": "code",
      "source": [],
      "metadata": {
        "id": "VqahXsnUHMlu"
      },
      "execution_count": null,
      "outputs": []
    },
    {
      "cell_type": "code",
      "source": [],
      "metadata": {
        "id": "oB51n7ynHMox"
      },
      "execution_count": null,
      "outputs": []
    }
  ]
}